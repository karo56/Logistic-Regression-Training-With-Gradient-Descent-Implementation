{
 "cells": [
  {
   "cell_type": "markdown",
   "metadata": {},
   "source": [
    "Celem zdania jest implementacja modelu regresji logistycznej trenowanego za pomocą algorytmu SGD z momentum. W zadaniu nauczyę model rozpoznawać ręcznie pisane cyfry pierwsze (2,3,5,7) od złożonych (4,6,8,9). Postaram się krok po kroku wyjaśnić jak działa mój model oraz jak dobierałem parametry uczenia aby uzsykać możliwie jak najwyższy wynik."
   ]
  },
  {
   "cell_type": "markdown",
   "metadata": {},
   "source": [
    "Importowanie niezbędnych bilbiotek."
   ]
  },
  {
   "cell_type": "code",
   "execution_count": 1,
   "metadata": {},
   "outputs": [],
   "source": [
    "import numpy as np\n",
    "import random\n",
    "from mlxtend.data import loadlocal_mnist\n",
    "import matplotlib.pyplot as plt\n"
   ]
  },
  {
   "cell_type": "markdown",
   "metadata": {},
   "source": [
    "Wczytanie danych. Plik ipynb musi znajdować się w tym samym folderze co zbiory dancyh."
   ]
  },
  {
   "cell_type": "code",
   "execution_count": 2,
   "metadata": {},
   "outputs": [],
   "source": [
    "x, y = loadlocal_mnist(images_path=\"train-images.idx3-ubyte\"\n",
    "                       ,labels_path=\"train-labels.idx1-ubyte\" )\n",
    "#Wczytanie danych treningowych, x zawiera artybuty ,natomiast y to zbiór cech\n",
    "\n",
    "x_test, y_test = loadlocal_mnist(images_path=\"t10k-images.idx3-ubyte\"\n",
    "                       ,labels_path=\"t10k-labels.idx1-ubyte\" )\n",
    "#Wczytanie danych testowych,analogicznie x_test zawiera artybuty ,natomiast y_test to zbiór cech"
   ]
  },
  {
   "cell_type": "markdown",
   "metadata": {},
   "source": [
    "Cyfry 0 i 1 nie interesują nas w danym problemie klasyfikacji, dlatego trzeba usunąć je ze wszystkich zbiorów."
   ]
  },
  {
   "cell_type": "code",
   "execution_count": 3,
   "metadata": {},
   "outputs": [],
   "source": [
    "result = np.where((y==0) | (y==1))#zmiena result zawiera indeksy liczb które są równe 0 lub 1\n",
    "y = np.delete(y,result)#usunięcie danych z odpowiednimi indexami \n",
    "x = np.delete(x, result,axis = 0)\n",
    "\n",
    "result = np.where((y_test==0) | (y_test==1)) #analogicznie dla zbioru testowego\n",
    "y_test = np.delete(y_test,result)\n",
    "x_test = np.delete(x_test, result,axis = 0)\n"
   ]
  },
  {
   "cell_type": "markdown",
   "metadata": {},
   "source": [
    "Musimy podzielić zbiór na dwie klasy, liczby pierwsze (1) oraz liczby złożone (0). "
   ]
  },
  {
   "cell_type": "code",
   "execution_count": 4,
   "metadata": {},
   "outputs": [],
   "source": [
    "prime = [2,3,5,7]\n",
    "notprime = [4,6,8,9]\n",
    "\n",
    "for i in prime:\n",
    "    y[y == i] = 1\n",
    "    y_test[y_test == i] = 1\n",
    "    #każda liczba pierwsza staje się jedynką\n",
    "for i in notprime:\n",
    "    y[y == i] = 0\n",
    "    y_test[y_test == i] = 0\n",
    "    #każda liczba złożona staje się zerem"
   ]
  },
  {
   "cell_type": "markdown",
   "metadata": {},
   "source": [
    "Możemy zobaczyć, ile jest liczb pierwszych, a ile liczb złożonych w zbiorze treningowym."
   ]
  },
  {
   "cell_type": "code",
   "execution_count": 5,
   "metadata": {},
   "outputs": [
    {
     "data": {
      "image/png": "[encoded data removed]",
      "text/plain": [
       "<Figure size 432x288 with 1 Axes>"
      ]
     },
     "metadata": {
      "needs_background": "light"
     },
     "output_type": "display_data"
    }
   ],
   "source": [
    "height = [len(y[y==0]),len(y[y==1])]\n",
    "bars = (\"liczba złożona\", \"liczba pierwsza\")\n",
    "y_pos = np.arange(len(bars))\n",
    "plt.bar(y_pos, height)\n",
    "plt.xticks(y_pos, bars)\n",
    "plt.show()"
   ]
  },
  {
   "cell_type": "markdown",
   "metadata": {},
   "source": [
    "Jak widać jest ich praktycznie tyle samo."
   ]
  },
  {
   "cell_type": "code",
   "execution_count": 6,
   "metadata": {},
   "outputs": [
    {
     "name": "stdout",
     "output_type": "stream",
     "text": [
      "[23560, 23775]\n"
     ]
    }
   ],
   "source": [
    "print(height) # ile jest liczb pierwszych, a ile złożonych"
   ]
  },
  {
   "cell_type": "markdown",
   "metadata": {},
   "source": [
    "Teraz zaimplementuję model:"
   ]
  },
  {
   "cell_type": "code",
   "execution_count": 7,
   "metadata": {},
   "outputs": [],
   "source": [
    "class Model(object):\n",
    "    def __init__(self,x,y):\n",
    "        self.x = x\n",
    "        self.y = y\n",
    "        self.N = x.shape[1]\n",
    "\n",
    "    def fit(self,beta = 0.9, ler_rate = 0.01, epoch = 10000):\n",
    "        self.theta = np.zeros((1, self.N)) # stworzenie wektora parametrów theta\n",
    "        self.b = 0                         # wyraz wolny\n",
    "        iteratrion = list(range(self.N))   # liczba iteracji \n",
    "        for i in range(epoch):\n",
    "            \n",
    "            grad_theta = np.zeros((1,self.N))  # wektor gradientów\n",
    "            grad_b = 0                         # gradient wyrazu wolnego\n",
    "            random.seed(i)                     # ustawienie tego samego ziarna dla każdej iteracji\n",
    "            random.shuffle(iteratrion)         # przemieszanie danych \n",
    "            for j in iteratrion:\n",
    "                prediction = np.dot(self.theta,x[j]) + self.b     # predykcja\n",
    "                grad_theta = beta*grad_theta + ler_rate*((self.sigmoid(prediction) - y[j])*x[j]) #wykorzystanie poprzedniego gradnienu w celu przyspieszenia zbieżności (momentum)\n",
    "                grad_b = beta*grad_b + ler_rate*(self.sigmoid(prediction) - y[j])\n",
    "\n",
    "                self.theta = self.theta - grad_theta  #aktualizacja parametrów\n",
    "                self.b = self.b - grad_b\n",
    "\n",
    "    def sigmoid(self,x):      #funckja sigmoidalna, zapisana w inny sposób, aby uniknać problemów numerycznych\n",
    "        if x >=0:\n",
    "            z = np.exp(-x)\n",
    "            return 1/(1 + z)\n",
    "        else:\n",
    "            z = np.exp(x)\n",
    "            return z/(1 + z)\n",
    "\n",
    "\n",
    "\n",
    "\n",
    "    def predict(self, X_test):                      #predykcja\n",
    "        N = X_test.shape[0]\n",
    "        self.predictions = np.zeros((1, N))\n",
    "\n",
    "        for i in range(N):\n",
    "            if self.sigmoid(np.dot(self.theta, X_test[i]) + self.b) > 0.5:  #klasyfikacja do odpowiedniej cechy na postawie wyniku funckji sigmoidalnej\n",
    "                self.predictions[0][i] = 1\n",
    "                \n",
    "    @staticmethod\n",
    "    def evaluate(Y_test, predictions):  #wyliczenie accuraccy\n",
    "        N = Y_test.shape[0]\n",
    "        correct = 0\n",
    "        for i in range(N):\n",
    "            if predictions[0][i] == Y_test[i]: \n",
    "                correct += 1\n",
    "        accuracy =  correct / N\n",
    "        return accuracy\n",
    "    \n",
    "    \n",
    "    @staticmethod\n",
    "    def confusion_matrix(Y_test, predictions):  #wyznaczenie macierzy błędu\n",
    "        N = Y_test.shape[0]\n",
    "        conf_matrix = np.zeros((2,2))\n",
    "\n",
    "        for i in range(N):\n",
    "            if predictions[0][i] == Y_test[i]:\n",
    "                index = int(predictions[0][i])  #zakwalifikowanie wyniku jako prawdziwie pozytywne(PP) lub prawdziwie negatywne (PN)\n",
    "                conf_matrix[index][index] +=1\n",
    "            else:\n",
    "                index = int(predictions[0][i]) #zakwalifikowanie wyniku jako fałszywie pozytywne (FP) lub fałszywie negatywne (FN)\n",
    "                index2 = int(Y_test[i])\n",
    "                conf_matrix[index][index2] +=1\n",
    "        return conf_matrix\n"
   ]
  },
  {
   "cell_type": "markdown",
   "metadata": {},
   "source": [
    "Możemy zainicjować model z danymi MNIST"
   ]
  },
  {
   "cell_type": "code",
   "execution_count": 8,
   "metadata": {},
   "outputs": [],
   "source": [
    "regression = Model(x,y) #inicjacja regresji"
   ]
  },
  {
   "cell_type": "code",
   "execution_count": 9,
   "metadata": {},
   "outputs": [
    {
     "name": "stdout",
     "output_type": "stream",
     "text": [
      "0.8525047558655675\n"
     ]
    }
   ],
   "source": [
    "regression.fit(epoch = 1000)\n",
    "regression.predict(x_test)\n",
    "pred = regression.predictions\n",
    "\n",
    "print(regression.evaluate(y_test,pred))    #accuracy dla standardowych wartości learning rate i beta "
   ]
  },
  {
   "cell_type": "markdown",
   "metadata": {},
   "source": [
    "Accuracy prezentuje się całkiem dobrze, jednak warto wybrać odpowiedni learning rate oraz parametr beta, aby uzsykać możliwe jak najlepszy wynik, aby  to sprawdzić zastosujemy prostą pętle:"
   ]
  },
  {
   "cell_type": "code",
   "execution_count": 10,
   "metadata": {},
   "outputs": [],
   "source": [
    "all_posibility = np.linspace(0,1,25)    #stworzenie wektora z różnymi wartościami miedzy 0 a 1"
   ]
  },
  {
   "cell_type": "code",
   "execution_count": 11,
   "metadata": {},
   "outputs": [],
   "source": [
    "accuracy_list = []                            #lista przechowuje accuracy dla konkretnej wartości learning rate \n",
    "for i in all_posibility:\n",
    "    regression.fit(ler_rate = i, epoch = 10)   #trenowanie modelu dla konkretnego learning rate\n",
    "    regression.predict(x_test)\n",
    "    pred = regression.predictions \n",
    "    acc = regression.evaluate(y_test,pred)\n",
    "    accuracy_list.append(acc)                  #zapisanie accuracy do listy"
   ]
  },
  {
   "cell_type": "code",
   "execution_count": 12,
   "metadata": {},
   "outputs": [],
   "source": [
    "max_accuracy = max(accuracy_list)                #wyznaczenie największego accuraccy\n",
    "lr_position = accuracy_list.index(max_accuracy)  \n",
    "lr_max = all_posibility[lr_position]             #wyznaczenie wartości learning rate dla którego accuracy było największe "
   ]
  },
  {
   "cell_type": "markdown",
   "metadata": {},
   "source": [
    "Możemy przedstawić na wykresie jak accuracy zmieniało się wraz ze zmianą parametru learning rate."
   ]
  },
  {
   "cell_type": "code",
   "execution_count": 13,
   "metadata": {
    "scrolled": true
   },
   "outputs": [
    {
     "data": {
      "image/png": "[encoded data removed]",
      "text/plain": [
       "<Figure size 432x288 with 1 Axes>"
      ]
     },
     "metadata": {
      "needs_background": "light"
     },
     "output_type": "display_data"
    }
   ],
   "source": [
    "plt.figure()\n",
    "plt.title(\"Zmiana accuracy wraz ze zmianą learning rate\")\n",
    "plt.plot(all_posibility, accuracy_list)\n",
    "plt.annotate('max accuracy', xy=(lr_max, max_accuracy), xytext=(lr_max-0.5, max_accuracy +0.02),\n",
    "             arrowprops=dict(facecolor='black', shrink=0.05))\n",
    "plt.xlabel(\"Learning Rate\")\n",
    "plt.ylabel(\"Accurasy\")\n",
    "plt.show()"
   ]
  },
  {
   "cell_type": "code",
   "execution_count": 14,
   "metadata": {},
   "outputs": [
    {
     "name": "stdout",
     "output_type": "stream",
     "text": [
      "0.041666666666666664\n"
     ]
    }
   ],
   "source": [
    "print(lr_max)"
   ]
  },
  {
   "cell_type": "markdown",
   "metadata": {},
   "source": [
    "Zaskakująco, według eksperymentów okazuje się, że learning rate nie ma w tym przypadku tak dużego znaczenia.\n",
    "Powtórzymy eksperyment, tym razem próbując znaleźć najlepszy parametr beta."
   ]
  },
  {
   "cell_type": "code",
   "execution_count": 15,
   "metadata": {},
   "outputs": [],
   "source": [
    "beta_list = []  #lista zawierajaca accuracy dla każdej wartości beta\n",
    "for i in all_posibility:\n",
    "    regression.fit(epoch = 10, beta = i)  #analogiczne trenowanie modelu i zapisywanie accuracy\n",
    "    regression.predict(x_test)\n",
    "    pred = regression.predictions\n",
    "    acc = regression.evaluate(y_test,pred)\n",
    "    beta_list.append(acc)"
   ]
  },
  {
   "cell_type": "code",
   "execution_count": 16,
   "metadata": {},
   "outputs": [],
   "source": [
    "max_accuracy = max(beta_list)                    #analogiczne wyznaczenie największej wartości beta\n",
    "beta_position = beta_list.index(max_accuracy)\n",
    "beta_max = all_posibility[beta_position]"
   ]
  },
  {
   "cell_type": "code",
   "execution_count": 17,
   "metadata": {},
   "outputs": [
    {
     "data": {
      "image/png": "[encoded data removed]",
      "text/plain": [
       "<Figure size 432x288 with 1 Axes>"
      ]
     },
     "metadata": {
      "needs_background": "light"
     },
     "output_type": "display_data"
    }
   ],
   "source": [
    "plt.figure()\n",
    "plt.plot(all_posibility, beta_list)\n",
    "plt.title(\"Zmiana accuracy wraz ze zmianą paraemtru beta\")\n",
    "plt.annotate('max accuracy', xy=(beta_max, max_accuracy), xytext=(lr_max + 1.1, max_accuracy + 0.005),\n",
    "             arrowprops=dict(facecolor='black', shrink=0.05),)\n",
    "plt.xlabel(\"Beta\")\n",
    "plt.ylabel(\"Accurasy\")\n",
    "plt.show()"
   ]
  },
  {
   "cell_type": "code",
   "execution_count": 18,
   "metadata": {},
   "outputs": [
    {
     "name": "stdout",
     "output_type": "stream",
     "text": [
      "0.875\n"
     ]
    }
   ],
   "source": [
    "print(beta_max)"
   ]
  },
  {
   "cell_type": "markdown",
   "metadata": {},
   "source": [
    "Zatem zgodnie z ekeprymentami najlepszym wynikiem okazała się beta równy 0.875"
   ]
  },
  {
   "cell_type": "code",
   "execution_count": 19,
   "metadata": {},
   "outputs": [
    {
     "name": "stdout",
     "output_type": "stream",
     "text": [
      "0.862143310082435\n"
     ]
    }
   ],
   "source": [
    "regression.fit(ler_rate = 0.042, epoch = 10, beta = 0.125)\n",
    "regression.predict(x_test)\n",
    "pred = regression.predictions\n",
    "acc = regression.evaluate(y_test,pred)\n",
    "print(acc)"
   ]
  },
  {
   "cell_type": "markdown",
   "metadata": {},
   "source": [
    "Wynik właściwie się nie różni. Widać na wykresie że accuracy jest bardzo podobne dla wartości beta = 0.875, jak również dla wartości bliskich 0.2. Wartość beta i learning rate mogę być ze sobą mocno skorelowane. Podczas eksperymentu szukajacego najlepszej wartości learning rate, beta była stale równa 0.9. Możliwe, że dla beta = 0.2, inna wartość learnig rate była by lepsza.\n",
    "\n",
    "Siłowo możemy sprawdzić jakie najwięszke accuracy jesteśmy wstanie uzyskać manewrując wartościami learning rate i beta.\n"
   ]
  },
  {
   "cell_type": "code",
   "execution_count": 20,
   "metadata": {},
   "outputs": [],
   "source": [
    "all_accuracy = []\n",
    "for i in all_posibility:\n",
    "    for j in all_posibility:\n",
    "        regression.fit(ler_rate = j, epoch = 10, beta = i)\n",
    "        regression.predict(x_test)\n",
    "        pred = regression.predictions\n",
    "        acc = regression.evaluate(y_test,pred)\n",
    "        all_accuracy.append(acc)\n",
    "      "
   ]
  },
  {
   "cell_type": "markdown",
   "metadata": {},
   "source": [
    "Nie jest to najmądrzejszy sposób szukania optymalnych wartości parametrów, gdyby zbiór danych był dużo większy obliczenia byłby za długie. Jednak dla tego zbioru danych obliczenia wykonały się w długim, ale skończonym czasie."
   ]
  },
  {
   "cell_type": "code",
   "execution_count": 21,
   "metadata": {},
   "outputs": [
    {
     "name": "stdout",
     "output_type": "stream",
     "text": [
      "0.8781230183893468\n"
     ]
    }
   ],
   "source": [
    "print(max(all_accuracy))"
   ]
  },
  {
   "cell_type": "markdown",
   "metadata": {},
   "source": [
    "Na koniec wyświetlmy macierz błędu, precyzję oraz pełność."
   ]
  },
  {
   "cell_type": "code",
   "execution_count": 22,
   "metadata": {},
   "outputs": [
    {
     "name": "stdout",
     "output_type": "stream",
     "text": [
      "Macierz błędu: \n",
      "[[3424.  490.]\n",
      " [ 499. 3472.]]\n",
      "Precyzja:  0.8728014274789702\n",
      "Pełność:  0.8748083801737353\n"
     ]
    }
   ],
   "source": [
    "regression.fit(epoch = 10)\n",
    "regression.predict(x_test)\n",
    "pred = regression.predictions\n",
    "M = regression.confusion_matrix(y_test, pred)\n",
    "precision = M[0][0]/(M[0][0] + M[1][0])\n",
    "recall = M[0][0]/(M[0][0] + M[0][1])\n",
    "\n",
    "print(\"Macierz błędu: \")\n",
    "print(M)\n",
    "print(\"Precyzja: \",precision)\n",
    "print(\"Pełność: \",recall)\n"
   ]
  },
  {
   "cell_type": "markdown",
   "metadata": {},
   "source": [
    "Jak widać, najlepsze accuracy nie różni sie wiele od tego z dobranymi odzielnie wartościami beta i learning rate. Co więcej accuracy jest równe dokładnie tyle ile wynosiło stosując standardowe parametry."
   ]
  },
  {
   "cell_type": "markdown",
   "metadata": {},
   "source": [
    "Podsumowując, bardzo interesujacy i zaskakujący jest fakt, że wartość learning rate odgrywa bardzo małą rolę w procesie uczenia. Może to wynikać z faktu, że algortym wykonuje bardzo dużo iteracji, dzięki czemu zawsze jest bardzo blisko minimum funckji. Ponadto opytmalizacja momentum, wa duży wpływ na zbieżność algorytmu, przez co learning rate może już nie odgrywać tak wielkiej roli, jak w przypadku zwykłego SGD."
   ]
  }
 ],
 "metadata": {
  "kernelspec": {
   "display_name": "Python 3",
   "language": "python",
   "name": "python3"
  },
  "language_info": {
   "codemirror_mode": {
    "name": "ipython",
    "version": 3
   },
   "file_extension": ".py",
   "mimetype": "text/x-python",
   "name": "python",
   "nbconvert_exporter": "python",
   "pygments_lexer": "ipython3",
   "version": "3.7.6"
  }
 },
 "nbformat": 4,
 "nbformat_minor": 4
}
